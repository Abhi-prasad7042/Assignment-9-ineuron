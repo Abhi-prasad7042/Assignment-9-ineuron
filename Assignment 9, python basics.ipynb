{
 "cells": [
  {
   "cell_type": "markdown",
   "id": "c2b7efd3",
   "metadata": {},
   "source": [
    "### Question1\n",
    "\n",
    "To what does a relative path refer?\n",
    "\n",
    "### Answer:-\n",
    "\n",
    "It is a path of the file from the current working directory."
   ]
  },
  {
   "cell_type": "markdown",
   "id": "0c2470b4",
   "metadata": {},
   "source": [
    "### Question2\n",
    "\n",
    "What does an absolute path start with your operating system?\n",
    "\n",
    "### Answer:-\n",
    "\n",
    "It is a full path of the file from the root directory, such as / or C:/."
   ]
  },
  {
   "cell_type": "markdown",
   "id": "d7f738a6",
   "metadata": {},
   "source": [
    "### Question3\n",
    "\n",
    "What do the functions os.getcwd() and os.chdir() do?\n",
    "\n",
    "### Answer:-\n",
    "\n",
    "`os.getcwd()` returns current working directory and `os.chdir()` this function changes the current workin directory."
   ]
  },
  {
   "cell_type": "markdown",
   "id": "83224f37",
   "metadata": {},
   "source": [
    "### Question4\n",
    "\n",
    "What are the `.` and `..` folders?\n",
    "\n",
    "### Answer:-\n",
    "\n",
    "The `.` folder is the current folder and `..` is the parent folder."
   ]
  },
  {
   "cell_type": "markdown",
   "id": "05a7c864",
   "metadata": {},
   "source": [
    "### Question5\n",
    "\n",
    "In `C:\\bacon\\eggs\\spam.txt`, which part is the dir name, and which part is the base name?\n",
    "\n",
    "### Answer:-\n",
    "\n",
    "Here, `C:\\bacin\\eggs` is dir name and `spam.txt` is the base name."
   ]
  },
  {
   "cell_type": "markdown",
   "id": "e87315f1",
   "metadata": {},
   "source": [
    "### Question6\n",
    "\n",
    "What are the three \"mode\" arguments that can be passed to the open() function?\n",
    "\n",
    "### Answer:-\n",
    "\n",
    "We can pass string arguments `'r'` for read mode, `'w'` write mode and `'a'` append mode."
   ]
  },
  {
   "cell_type": "markdown",
   "id": "84d7050d",
   "metadata": {},
   "source": [
    "### Question7\n",
    "\n",
    "What happens if an existing file is opened in write mode?\n",
    "\n",
    "### Answer:-\n",
    "\n",
    "If the existing file is opened in write mode then it will overwrite the file or completely erased."
   ]
  },
  {
   "cell_type": "markdown",
   "id": "75353eab",
   "metadata": {},
   "source": [
    "### Question8\n",
    "\n",
    "What is the difference between the read() and readlines() methods?\n",
    "\n",
    "### Answer:-\n",
    "\n",
    "The `read()` method returns the whole content from the file as a single string and `readlines()` method returns list of strings, where each string is a line."
   ]
  },
  {
   "cell_type": "markdown",
   "id": "3a87d224",
   "metadata": {},
   "source": [
    "### Question9\n",
    "\n",
    "What data structure does a shelf value resemble?\n",
    "\n",
    "### Answer:-\n",
    "\n",
    "The shelf value resembles a dictionary value and this work similarly to the dictionary."
   ]
  }
 ],
 "metadata": {
  "kernelspec": {
   "display_name": "Python 3 (ipykernel)",
   "language": "python",
   "name": "python3"
  },
  "language_info": {
   "codemirror_mode": {
    "name": "ipython",
    "version": 3
   },
   "file_extension": ".py",
   "mimetype": "text/x-python",
   "name": "python",
   "nbconvert_exporter": "python",
   "pygments_lexer": "ipython3",
   "version": "3.8.11"
  }
 },
 "nbformat": 4,
 "nbformat_minor": 5
}
